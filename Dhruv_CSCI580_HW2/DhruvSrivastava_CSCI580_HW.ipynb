{
  "nbformat": 4,
  "nbformat_minor": 0,
  "metadata": {
    "colab": {
      "name": "DhruvSrivastava_CSCI580_HW.ipynb",
      "provenance": [],
      "collapsed_sections": []
    },
    "kernelspec": {
      "name": "python3",
      "display_name": "Python 3"
    },
    "language_info": {
      "name": "python"
    }
  },
  "cells": [
    {
      "cell_type": "markdown",
      "source": [
        "# Note\n",
        "\n",
        "Please scroll-down to section HOMEWORK 2 for latest homework\n"
      ],
      "metadata": {
        "id": "RvsZC0TFgpWm"
      }
    },
    {
      "cell_type": "markdown",
      "source": [
        "### HOMEWORK 0"
      ],
      "metadata": {
        "id": "W07QX_uch2Cd"
      }
    },
    {
      "cell_type": "code",
      "source": [
        "import numpy, json, math\n",
        "from PIL import Image"
      ],
      "metadata": {
        "id": "kJQ4K6-mhTpi"
      },
      "execution_count": 303,
      "outputs": []
    },
    {
      "cell_type": "code",
      "source": [
        "im = Image.new(\"RGB\",[256,256],0x000000)\n",
        "width, height = im.size"
      ],
      "metadata": {
        "id": "e9lvoRprSEC1"
      },
      "execution_count": 304,
      "outputs": []
    },
    {
      "cell_type": "code",
      "source": [
        "for y in range(height):\n",
        "  for x in range(width):\n",
        "      im.putpixel((x,y),(0,0,0))"
      ],
      "metadata": {
        "id": "yLOiRoAmaIRH"
      },
      "execution_count": 305,
      "outputs": []
    },
    {
      "cell_type": "code",
      "source": [
        "for y in range(32):\n",
        "  for x in range(32):\n",
        "      im.putpixel((x,y),(255,0,0))"
      ],
      "metadata": {
        "id": "k1ycgw41aKXN"
      },
      "execution_count": 306,
      "outputs": []
    },
    {
      "cell_type": "code",
      "source": [
        "for y in range(32):\n",
        "  for x in range(32):\n",
        "      im.putpixel((x+64,y+64),(255,255,0))"
      ],
      "metadata": {
        "id": "LuXw9lkSaVa2"
      },
      "execution_count": 307,
      "outputs": []
    },
    {
      "cell_type": "code",
      "source": [
        "im"
      ],
      "metadata": {
        "colab": {
          "base_uri": "https://localhost:8080/",
          "height": 273
        },
        "id": "YAxURGg7aejq",
        "outputId": "b41ee196-252e-438c-df80-b095f52e1d70"
      },
      "execution_count": 308,
      "outputs": [
        {
          "output_type": "execute_result",
          "data": {
            "image/png": "[encoded data removed]",
            "text/plain": [
              "<PIL.Image.Image image mode=RGB size=256x256 at 0x7FBD64196110>"
            ]
          },
          "metadata": {},
          "execution_count": 308
        }
      ]
    },
    {
      "cell_type": "markdown",
      "source": [
        "##HOMEWORK **1**\n"
      ],
      "metadata": {
        "id": "MXO9LBo4iW8W"
      }
    },
    {
      "cell_type": "code",
      "source": [
        "import numpy, json, math\n",
        "from PIL import Image"
      ],
      "metadata": {
        "id": "w3SoDr-ahVi_"
      },
      "execution_count": 309,
      "outputs": []
    },
    {
      "cell_type": "code",
      "source": [
        "im = Image.new(\"RGB\",[512,512],0x000000)\n",
        "url = 'https://raw.githubusercontent.com/DhruvSrivastava-16/CSCI580/main/rectangle.json'\n",
        "resp = requests.get(url)\n",
        "rectangle_data = json.loads(resp.text)"
      ],
      "metadata": {
        "id": "H159Y5oNafFX"
      },
      "execution_count": 310,
      "outputs": []
    },
    {
      "cell_type": "code",
      "source": [
        "def colour_fill(x_min, x_max, y_min, y_max, R, G, B, im):\n",
        "\n",
        "  x_min = max(0,min(x_min,511))\n",
        "  x_max = max(0,min(x_max,511))\n",
        "\n",
        "  y_min = max(0,min(y_min,511))\n",
        "  y_max = max(0,min(y_max,511))\n",
        "\n",
        "\n",
        "  for x in range(x_min,x_max+1):\n",
        "    for y in range(y_min, y_max+1):\n",
        "      im.putpixel((x,y),(R,G,B))\n"
      ],
      "metadata": {
        "id": "4Rpqv_u1lJtc"
      },
      "execution_count": 311,
      "outputs": []
    },
    {
      "cell_type": "code",
      "source": [
        "for itr in range(len(rectangle_data['rects'])):\n",
        "  x_min, x_max = rectangle_data['rects'][itr]['xmin'], rectangle_data['rects'][itr]['xmax']\n",
        "  y_min, y_max = rectangle_data['rects'][itr]['ymin'], rectangle_data['rects'][itr]['ymax']\n",
        "  R, G, B = rectangle_data['rects'][itr]['RGB'][0], rectangle_data['rects'][itr]['RGB'][1], rectangle_data['rects'][itr]['RGB'][2]\n",
        "  colour_fill(x_min, x_max, y_min, y_max, R, G, B, im)"
      ],
      "metadata": {
        "id": "UA6tzK7piWDe"
      },
      "execution_count": 312,
      "outputs": []
    },
    {
      "cell_type": "code",
      "source": [
        "im"
      ],
      "metadata": {
        "colab": {
          "base_uri": "https://localhost:8080/",
          "height": 529
        },
        "id": "juOn2YykjHq6",
        "outputId": "e839107b-a230-44dd-b8c3-7eef0a4cea46"
      },
      "execution_count": 313,
      "outputs": [
        {
          "output_type": "execute_result",
          "data": {
            "image/png": "[encoded data removed]",
            "text/plain": [
              "<PIL.Image.Image image mode=RGB size=512x512 at 0x7FBD647F6E50>"
            ]
          },
          "metadata": {},
          "execution_count": 313
        }
      ]
    },
    {
      "cell_type": "markdown",
      "source": [
        "## HOMEWORK **2**\n",
        "\n",
        "Execite all cells from Cell 273"
      ],
      "metadata": {
        "id": "2ljCxegCqogX"
      }
    },
    {
      "cell_type": "code",
      "source": [
        "import numpy, json, math, requests\n",
        "from PIL import Image"
      ],
      "metadata": {
        "id": "SaNZrnCXhXKn"
      },
      "execution_count": 314,
      "outputs": []
    },
    {
      "cell_type": "code",
      "source": [
        "im = Image.new('RGB',[256,256],color = (255,255,0))\n",
        "url = 'https://raw.githubusercontent.com/DhruvSrivastava-16/CSCI580/main/teapot.json'\n",
        "resp = requests.get(url)\n",
        "teapot_data = json.loads(resp.text)\n",
        "teapot_data = teapot_data['data']"
      ],
      "metadata": {
        "id": "l_NtXAEtlaBW"
      },
      "execution_count": 315,
      "outputs": []
    },
    {
      "cell_type": "code",
      "source": [
        "def line_equations(X,Y,pixel_x,pixel_y):\n",
        "  f01 = (Y[0] - Y[1])*pixel_x + (X[1] - X[0])*pixel_y + (X[0]*Y[1]) - (X[1]*Y[0])\n",
        "  f12 = (Y[1] - Y[2])*pixel_x + (X[2] - X[1])*pixel_y + (X[1]*Y[2]) - (X[2]*Y[1])\n",
        "  f20 = (Y[2] - Y[0])*pixel_x + (X[0] - X[2])*pixel_y + (X[2]*Y[0]) - (X[0]*Y[2])\n",
        "  \n",
        "  return [f01,f12,f20]\n"
      ],
      "metadata": {
        "id": "Q0vRgu_roPuS"
      },
      "execution_count": 316,
      "outputs": []
    },
    {
      "cell_type": "code",
      "source": [
        "Z_Buff = [[float('inf') for r in range(256)] for c in range(256)]"
      ],
      "metadata": {
        "id": "owfpBzrbmD_l"
      },
      "execution_count": 317,
      "outputs": []
    },
    {
      "cell_type": "code",
      "source": [
        "def computeTriangleColor(normal):\n",
        "  \n",
        "  triColor = [0,0,0]\n",
        "  dotp = 0.707*normal[0] + 0.5*normal[1] + 0.5*normal[2]\n",
        "  \n",
        "\n",
        "  if (dotp < 0.0):\n",
        "    dotp = -dotp\n",
        "  elif (dotp > 1.0):\n",
        "    dotp = 1.0\n",
        "\n",
        "  triColor[0] = 0.95*dotp\n",
        "  triColor[1] = 0.65*dotp\n",
        "  triColor[2] = 0.88*dotp\n",
        "\n",
        "  return triColor\n"
      ],
      "metadata": {
        "id": "ZbN4LR70mLsG"
      },
      "execution_count": 318,
      "outputs": []
    },
    {
      "cell_type": "code",
      "source": [
        "for itr in range(len(teapot_data)):\n",
        "\n",
        "  X, Y, Z = [], [], []\n",
        "  Colour = computeTriangleColor(teapot_data[itr]['v0']['n'])\n",
        "\n",
        "  for point in ['v0','v1','v2']:\n",
        "    x, y, z = teapot_data[itr][point]['v'][0], teapot_data[itr][point]['v'][1], teapot_data[itr][point]['v'][2]\n",
        "    x, y = max(0,min(x,255)), max(0,min(y,255))\n",
        "    X.append(x)\n",
        "    Y.append(y)\n",
        "    Z.append(z)\n",
        "\n",
        "  xmin, xmax = math.floor(min(X)), math.ceil(max(X))\n",
        "  ymin, ymax = math.floor(min(Y)), math.ceil(max(Y))\n",
        "\n",
        "  for x in range(xmin, xmax + 1):\n",
        "    for y in range(ymin, ymax + 1):\n",
        "\n",
        "      numerator_f = line_equations(X,Y,x,y)\n",
        "      denominator_f_alpha = line_equations(X,Y,X[0],Y[0])\n",
        "      denominator_f_beta = line_equations(X,Y,X[1],Y[1])\n",
        "      denominator_f_gamma = line_equations(X,Y,X[2],Y[2])\n",
        "\n",
        "      Alpha = (numerator_f[1]/denominator_f_alpha[1]) if denominator_f_alpha[1]!=0 else 0\n",
        "      Beta = (numerator_f[2]/denominator_f_beta[2]) if denominator_f_beta[2]!=0 else 0\n",
        "      Gamma = (numerator_f[0]/denominator_f_gamma[0]) if denominator_f_gamma[0]!=0 else 0\n",
        "\n",
        "      if Alpha >= 0 and Beta >= 0 and Gamma >= 0:\n",
        "        Z_pixel = Alpha*Z[0] + Beta*Z[1] + Gamma*Z[2]\n",
        "\n",
        "        if Z_pixel < Z_Buff[x][y]:\n",
        "          \n",
        "          im.putpixel((x, y), (int(Colour[0]*255),int(Colour[1]*255),int(Colour[2]*255)))\n",
        "          Z_Buff[x][y] = Z_pixel\n",
        "        \n",
        "   "
      ],
      "metadata": {
        "id": "-GweFf9vmwAC"
      },
      "execution_count": 319,
      "outputs": []
    },
    {
      "cell_type": "code",
      "source": [
        "im"
      ],
      "metadata": {
        "colab": {
          "base_uri": "https://localhost:8080/",
          "height": 273
        },
        "id": "2l-QD0wzocql",
        "outputId": "6a5d47bd-5a1b-41af-c8d3-f881c43dce1e"
      },
      "execution_count": 320,
      "outputs": [
        {
          "output_type": "execute_result",
          "data": {
            "image/png": "[encoded data removed]",
            "text/plain": [
              "<PIL.Image.Image image mode=RGB size=256x256 at 0x7FBD647048D0>"
            ]
          },
          "metadata": {},
          "execution_count": 320
        }
      ]
    },
    {
      "cell_type": "code",
      "source": [
        "im.save('Teapot_Generated.png')"
      ],
      "metadata": {
        "id": "rf-jRKz6uDTg"
      },
      "execution_count": 321,
      "outputs": []
    },
    {
      "cell_type": "code",
      "source": [
        ""
      ],
      "metadata": {
        "id": "KDxTyXbEOgDb"
      },
      "execution_count": null,
      "outputs": []
    }
  ]
}